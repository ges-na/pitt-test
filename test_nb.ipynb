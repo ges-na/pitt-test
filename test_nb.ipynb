{
 "cells": [
  {
   "cell_type": "markdown",
   "metadata": {},
   "source": [
    "Let's play with variables!"
   ]
  },
  {
   "cell_type": "code",
   "execution_count": 1,
   "metadata": {},
   "outputs": [
    {
     "name": "stdout",
     "output_type": "stream",
     "text": [
      "My name is Jupyter. What's your name?\n",
      "Gesina\n"
     ]
    }
   ],
   "source": [
    "x = input(\"My name is Jupyter. What's your name?\\n\")"
   ]
  },
  {
   "cell_type": "code",
   "execution_count": 2,
   "metadata": {},
   "outputs": [
    {
     "name": "stdout",
     "output_type": "stream",
     "text": [
      "Hello, Gesina! Nice to meet you!\n"
     ]
    }
   ],
   "source": [
    "print(\"Hello, \" + x + \"! Nice to meet you!\")"
   ]
  },
  {
   "cell_type": "code",
   "execution_count": 3,
   "metadata": {},
   "outputs": [
    {
     "name": "stdout",
     "output_type": "stream",
     "text": [
      "x = Gesina\n",
      "What would be a better variable name for x? name\n"
     ]
    },
    {
     "data": {
      "text/plain": [
       "'name'"
      ]
     },
     "execution_count": 3,
     "metadata": {},
     "output_type": "execute_result"
    }
   ],
   "source": [
    "print(\"x = \" + x)\n",
    "input(\"What would be a better variable name for x? \")"
   ]
  },
  {
   "cell_type": "markdown",
   "metadata": {},
   "source": [
    "Let's use that new variable name instead of x. In the block below, try creating a new variable with the variable name that you chose, and assign it a value equal to your name. Remember, you assign a value to a variable using the following pattern:\n",
    "variable_name = value"
   ]
  },
  {
   "cell_type": "code",
   "execution_count": null,
   "metadata": {},
   "outputs": [],
   "source": []
  },
  {
   "cell_type": "code",
   "execution_count": 4,
   "metadata": {},
   "outputs": [
    {
     "name": "stdout",
     "output_type": "stream",
     "text": [
      "\n",
      "What's your Zodiac sign?\n",
      "Capricorn\n",
      "Cool! I'm a Libra.\n"
     ]
    }
   ],
   "source": [
    "y =  input(\"\\nWhat's your Zodiac sign?\\n\")\n",
    "print(\"Cool! I'm a Libra.\")"
   ]
  },
  {
   "cell_type": "code",
   "execution_count": 5,
   "metadata": {},
   "outputs": [
    {
     "name": "stdout",
     "output_type": "stream",
     "text": [
      "y = Capricorn\n",
      "What would be a better variable name for y? zodiac_sign\n"
     ]
    },
    {
     "data": {
      "text/plain": [
       "'zodiac_sign'"
      ]
     },
     "execution_count": 5,
     "metadata": {},
     "output_type": "execute_result"
    }
   ],
   "source": [
    "print(\"y = \" + y)\n",
    "input(\"What would be a better variable name for y? \")"
   ]
  },
  {
   "cell_type": "markdown",
   "metadata": {},
   "source": [
    "Let's use that new variable name instead of y. In the block below, try creating a new variable with the variable name that you chose, and assign it a value equal to your name. Remember, you assign a value to a variable using the following pattern: variable_name = value"
   ]
  }
 ],
 "metadata": {
  "kernelspec": {
   "display_name": "Python 3",
   "language": "python",
   "name": "python3"
  },
  "language_info": {
   "codemirror_mode": {
    "name": "ipython",
    "version": 3
   },
   "file_extension": ".py",
   "mimetype": "text/x-python",
   "name": "python",
   "nbconvert_exporter": "python",
   "pygments_lexer": "ipython3",
   "version": "3.7.4"
  }
 },
 "nbformat": 4,
 "nbformat_minor": 2
}
